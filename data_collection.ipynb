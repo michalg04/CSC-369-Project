{
 "cells": [
  {
   "cell_type": "code",
   "execution_count": 70,
   "metadata": {},
   "outputs": [],
   "source": [
    "import zipfile as zf\n",
    "files = zf.ZipFile(\"images.zip\", 'r')\n",
    "files.extractall('data')\n",
    "files.close()"
   ]
  },
  {
   "cell_type": "code",
   "execution_count": 2,
   "metadata": {},
   "outputs": [
    {
     "data": {
      "text/plain": [
       "'/Users/michalgolovanevsky/369Project'"
      ]
     },
     "execution_count": 2,
     "metadata": {},
     "output_type": "execute_result"
    }
   ],
   "source": [
    "import os\n",
    "base_path = os.getcwd()\n",
    "base_path"
   ]
  },
  {
   "cell_type": "code",
   "execution_count": 71,
   "metadata": {},
   "outputs": [],
   "source": [
    "import shutil\n",
    "shutil.rmtree(os.path.join(base_path, \"data/__MACOSX\"))"
   ]
  },
  {
   "cell_type": "code",
   "execution_count": 7,
   "metadata": {},
   "outputs": [],
   "source": [
    "data_path = os.path.join(base_path, \"data\") \n",
    "categories = os.listdir(data_path)"
   ]
  },
  {
   "cell_type": "code",
   "execution_count": 21,
   "metadata": {},
   "outputs": [],
   "source": [
    "categories.sort()"
   ]
  },
  {
   "cell_type": "code",
   "execution_count": 18,
   "metadata": {},
   "outputs": [],
   "source": [
    "import string\n",
    "lower = list(string.ascii_lowercase)\n",
    "upper = list(string.ascii_uppercase)"
   ]
  },
  {
   "cell_type": "code",
   "execution_count": 72,
   "metadata": {},
   "outputs": [],
   "source": [
    "os.mkdir(\"images\")"
   ]
  },
  {
   "cell_type": "code",
   "execution_count": 73,
   "metadata": {},
   "outputs": [],
   "source": [
    "digit_cat = categories[:10]\n",
    "for i in range(10):\n",
    "    cat_path = os.path.join(data_path, digit_cat[i])\n",
    "    images = os.listdir(cat_path)\n",
    "    for img in images:\n",
    "        img_path = os.path.join(cat_path, img)\n",
    "        name = str(i) + \"-\" + img_path.split(\"/\")[-1]\n",
    "        dest_path = os.path.join(base_path, \"images\", name)\n",
    "        shutil.move(img_path, dest_path)"
   ]
  },
  {
   "cell_type": "code",
   "execution_count": 75,
   "metadata": {},
   "outputs": [],
   "source": [
    "upper_cat = categories[10:36]\n",
    "for i in range(len(upper)):\n",
    "    cat_path = os.path.join(data_path, upper_cat[i])\n",
    "    images = os.listdir(cat_path)\n",
    "    for img in images:\n",
    "        img_path = os.path.join(cat_path, img)\n",
    "        name = upper[i] + \"-\" + img_path.split(\"/\")[-1]\n",
    "        dest_path = os.path.join(base_path, \"images\", name)\n",
    "        shutil.move(img_path, dest_path)"
   ]
  },
  {
   "cell_type": "code",
   "execution_count": 77,
   "metadata": {},
   "outputs": [],
   "source": [
    "lower_cat = categories[36:]\n",
    "for i in range(len(lower)):\n",
    "    cat_path = os.path.join(data_path, lower_cat[i])\n",
    "    images = os.listdir(cat_path)\n",
    "    for img in images:\n",
    "        img_path = os.path.join(cat_path, img)\n",
    "        name = lower[i] + \"-\" + img_path.split(\"/\")[-1]\n",
    "        dest_path = os.path.join(base_path, \"images\", name)\n",
    "        shutil.move(img_path, dest_path)"
   ]
  },
  {
   "cell_type": "code",
   "execution_count": 78,
   "metadata": {},
   "outputs": [
    {
     "data": {
      "text/plain": [
       "3410"
      ]
     },
     "execution_count": 78,
     "metadata": {},
     "output_type": "execute_result"
    }
   ],
   "source": [
    "path = \"/Users/michalgolovanevsky/369Project/images\"\n",
    "len(os.listdir(path))"
   ]
  }
 ],
 "metadata": {
  "kernelspec": {
   "display_name": "Python 3",
   "language": "python",
   "name": "python3"
  },
  "language_info": {
   "codemirror_mode": {
    "name": "ipython",
    "version": 3
   },
   "file_extension": ".py",
   "mimetype": "text/x-python",
   "name": "python",
   "nbconvert_exporter": "python",
   "pygments_lexer": "ipython3",
   "version": "3.7.3"
  }
 },
 "nbformat": 4,
 "nbformat_minor": 4
}
